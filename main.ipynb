{
 "cells": [
  {
   "cell_type": "code",
   "execution_count": null,
   "metadata": {
    "collapsed": true
   },
   "outputs": [],
   "source": [
    "\n",
    "import sys\n",
    "import os\n",
    "from datetime import datetime\n",
    "from crawler_model_1111 import *\n",
    "from util import *\n",
    "\n",
    "def main():\n",
    "    \n",
    "    para_dict={'save':'F'}\n",
    "    #need dire_para, rang, sect, (save) parameters\n",
    "    \n",
    "    print '=========='\n",
    "    for para in sys.argv[1:]:\n",
    "        tmp_ls=para.split(\"=\")\n",
    "        if len(tmp_ls)==2:\n",
    "            print tmp_ls[0]+\":\"+tmp_ls[1]\n",
    "            para_dict[tmp_ls[0]]=tmp_ls[1]\n",
    "        else:\n",
    "            raise Exception('Error in input \"'+para+'\". please use \"name1=value1 name2=value2\" format')\n",
    "    \n",
    "    try:\n",
    "        para_dict['dire_para']\n",
    "    except:\n",
    "        para_dict['dire_para']=os.getcwd()\n",
    "        print 'using default directory: '+para_dict['dire_para']\n",
    "    try:\n",
    "        para_dict['rang']\n",
    "    except:\n",
    "        para_dict['rang']='1-2'\n",
    "        print 'using default rang: '+para_dict['rang']\n",
    "    try:\n",
    "        para_dict['sect']\n",
    "    except:\n",
    "        para_dict['sect']='99'\n",
    "        print 'using default sect name: '+para_dict['sect']\n",
    "    \n",
    "    print '=========='\n",
    "    \n",
    "    #check if directory exist\n",
    "    if not os.path.isdir(para_dict['dire_para']):\n",
    "        raise Exception(para_dict['dire_para']+' doesn\\'t exist')\n",
    "    \n",
    "    #crawler\n",
    "    logtext=crawl_1111(para_dict['dire_para'],map(int,str.split(para_dict['rang'],'-')),para_dict['sect'])\n",
    "    \n",
    "    if para_dict['save']=='T':\n",
    "        if not os.path.isdir(para_dict['dire_para']+'log/'):\n",
    "            os.makedirs(para_dict['dire_para']+'log/')\n",
    "        fo=open(para_dict['dire_para']+'log/log'+datetime.today().strftime(\"%y%m%d\")+'.txt', 'w')\n",
    "        fo.write(logtext)\n",
    "        fo.close()\n",
    "    \n",
    "    \n",
    "    \n",
    "if __name__== \"__main__\":\n",
    "    main()"
   ]
  }
 ],
 "metadata": {
  "kernelspec": {
   "display_name": "Python 2",
   "language": "python",
   "name": "python2"
  },
  "language_info": {
   "codemirror_mode": {
    "name": "ipython",
    "version": 2
   },
   "file_extension": ".py",
   "mimetype": "text/x-python",
   "name": "python",
   "nbconvert_exporter": "python",
   "pygments_lexer": "ipython2",
   "version": "2.7.13"
  }
 },
 "nbformat": 4,
 "nbformat_minor": 2
}
